{
 "cells": [
  {
   "cell_type": "markdown",
   "id": "097c7e36-f753-4bda-a413-b54c7dc4be04",
   "metadata": {},
   "source": [
    "# Data Science/Analysis : Remote Work Assessment"
   ]
  },
  {
   "cell_type": "markdown",
   "id": "e960cb06-2bd4-4935-9f21-350505316e60",
   "metadata": {},
   "source": [
    ">This notebook will cover the metrics to be applied at muringa school to improve on their module to module retention rate for the school software development program."
   ]
  },
  {
   "cell_type": "markdown",
   "id": "cc309dc4-2b9a-415b-8731-6f68471d2f67",
   "metadata": {},
   "source": [
    ">All students enrolled in the program are required to complete 5 modules, in the given order.\n",
    "\n",
    "            1.Intro to Software Development.\n",
    "            2.Angular\n",
    "            3.Java/Python\n",
    "            4.Android/Django\n",
    "            5.Professional Development"
   ]
  },
  {
   "cell_type": "markdown",
   "id": "249be24d-0287-4102-9dd7-d92238cdfea2",
   "metadata": {},
   "source": [
    ">I will try to cover why students tend to drop out of the program between modules even after passing their prerequisite modules through a number of metrics, such as:\n",
    "\n",
    "\n",
    "        1. Attendance\n",
    "        2. IP Grade average\n",
    "        3. Total Activity Time \n",
    "        4. Participation Level \n",
    "        5. Page View Levelllee\n",
    "\n"
   ]
  },
  {
   "cell_type": "markdown",
   "id": "2c33c472-ceb6-471e-a2d8-48cd3481ac7a",
   "metadata": {},
   "source": [
    "# Import the necessary modules"
   ]
  },
  {
   "cell_type": "code",
   "execution_count": 402,
   "id": "68c51d07-fa77-43db-b39c-9af564dadcb2",
   "metadata": {},
   "outputs": [],
   "source": [
    "from pyspark.sql import SparkSession\n",
    "from pyspark.sql.functions import col\n",
    "from pyspark.sql import SparkSession\n",
    "from pyspark.ml.stat import Correlation\n",
    "import matplotlib.pyplot as plt\n",
    "import seaborn as sns\n",
    "import pandas as pd\n"
   ]
  },
  {
   "cell_type": "code",
   "execution_count": 403,
   "id": "6c7244c6-1d1c-44df-99d9-c87365cd71aa",
   "metadata": {},
   "outputs": [],
   "source": [
    "spark= SparkSession.builder.appName('Muringa').getOrCreate()"
   ]
  },
  {
   "cell_type": "code",
   "execution_count": 404,
   "id": "76f122e3-20b2-49cb-99b7-4b90aa1a51f3",
   "metadata": {},
   "outputs": [
    {
     "data": {
      "text/html": [
       "\n",
       "            <div>\n",
       "                <p><b>SparkSession - in-memory</b></p>\n",
       "                \n",
       "        <div>\n",
       "            <p><b>SparkContext</b></p>\n",
       "\n",
       "            <p><a href=\"http://7031c3b986f5:4040\">Spark UI</a></p>\n",
       "\n",
       "            <dl>\n",
       "              <dt>Version</dt>\n",
       "                <dd><code>v3.4.1</code></dd>\n",
       "              <dt>Master</dt>\n",
       "                <dd><code>local[*]</code></dd>\n",
       "              <dt>AppName</dt>\n",
       "                <dd><code>Muringa</code></dd>\n",
       "            </dl>\n",
       "        </div>\n",
       "        \n",
       "            </div>\n",
       "        "
      ],
      "text/plain": [
       "<pyspark.sql.session.SparkSession at 0x7f813fb3d110>"
      ]
     },
     "execution_count": 404,
     "metadata": {},
     "output_type": "execute_result"
    }
   ],
   "source": [
    "spark"
   ]
  },
  {
   "cell_type": "markdown",
   "id": "292aa4ce-d11d-4aee-b3f0-36ab262dda63",
   "metadata": {},
   "source": [
    "# Loading Dataset"
   ]
  },
  {
   "cell_type": "markdown",
   "id": "a77cafc6-6eb0-4d85-bacb-706bbfeb9bec",
   "metadata": {},
   "source": [
    "### Android student data"
   ]
  },
  {
   "cell_type": "code",
   "execution_count": 450,
   "id": "ed791e48-693b-4fa4-9cdb-3e88b25d8414",
   "metadata": {},
   "outputs": [],
   "source": [
    "df_android=spark.read.option('header','true').csv('Assignment Data - Android.csv', inferSchema=True)"
   ]
  },
  {
   "cell_type": "code",
   "execution_count": 451,
   "id": "0f2641d7-aedb-4a93-9d8f-eff39160a646",
   "metadata": {},
   "outputs": [
    {
     "data": {
      "text/html": [
       "<div>\n",
       "<style scoped>\n",
       "    .dataframe tbody tr th:only-of-type {\n",
       "        vertical-align: middle;\n",
       "    }\n",
       "\n",
       "    .dataframe tbody tr th {\n",
       "        vertical-align: top;\n",
       "    }\n",
       "\n",
       "    .dataframe thead th {\n",
       "        text-align: right;\n",
       "    }\n",
       "</style>\n",
       "<table border=\"1\" class=\"dataframe\">\n",
       "  <thead>\n",
       "    <tr style=\"text-align: right;\">\n",
       "      <th></th>\n",
       "      <th>hed__Contact__c</th>\n",
       "      <th>mor_Attendance_Score__c</th>\n",
       "      <th>IP_Grade_Average__c</th>\n",
       "      <th>mor_Total_Activity_Time__c</th>\n",
       "      <th>Participations_Level__c</th>\n",
       "      <th>Page_Views_Level__c</th>\n",
       "      <th>hed__Course_Offering__c</th>\n",
       "      <th>Prerequisite_Course_Connection__c</th>\n",
       "    </tr>\n",
       "  </thead>\n",
       "  <tbody>\n",
       "    <tr>\n",
       "      <th>0</th>\n",
       "      <td>0034K00000I7xWaQAJ</td>\n",
       "      <td>NaN</td>\n",
       "      <td>NaN</td>\n",
       "      <td>32237.0</td>\n",
       "      <td>NaN</td>\n",
       "      <td>NaN</td>\n",
       "      <td>a0R4K0000020w2DUAQ</td>\n",
       "      <td>None</td>\n",
       "    </tr>\n",
       "    <tr>\n",
       "      <th>1</th>\n",
       "      <td>0034K00000B8uNfQAJ</td>\n",
       "      <td>NaN</td>\n",
       "      <td>NaN</td>\n",
       "      <td>NaN</td>\n",
       "      <td>NaN</td>\n",
       "      <td>NaN</td>\n",
       "      <td>a0R4K0000020w2DUAQ</td>\n",
       "      <td>None</td>\n",
       "    </tr>\n",
       "    <tr>\n",
       "      <th>2</th>\n",
       "      <td>0034K00000B8gO1QAJ</td>\n",
       "      <td>78.0</td>\n",
       "      <td>23.6100</td>\n",
       "      <td>239165.0</td>\n",
       "      <td>2.0</td>\n",
       "      <td>2.0</td>\n",
       "      <td>a0R4K0000020w2DUAQ</td>\n",
       "      <td>a0P4K0000012KbmUAE</td>\n",
       "    </tr>\n",
       "    <tr>\n",
       "      <th>3</th>\n",
       "      <td>0034K00000BAy3KQAT</td>\n",
       "      <td>96.0</td>\n",
       "      <td>95.0000</td>\n",
       "      <td>1238278.0</td>\n",
       "      <td>2.0</td>\n",
       "      <td>2.0</td>\n",
       "      <td>a0R4K0000020w2DUAQ</td>\n",
       "      <td>a0P4K0000012KbwUAE</td>\n",
       "    </tr>\n",
       "    <tr>\n",
       "      <th>4</th>\n",
       "      <td>0034K00000B8gOeQAJ</td>\n",
       "      <td>96.0</td>\n",
       "      <td>93.6100</td>\n",
       "      <td>406821.0</td>\n",
       "      <td>2.0</td>\n",
       "      <td>2.0</td>\n",
       "      <td>a0R4K0000020w2DUAQ</td>\n",
       "      <td>a0P4K0000012KbsUAE</td>\n",
       "    </tr>\n",
       "    <tr>\n",
       "      <th>5</th>\n",
       "      <td>0034K00000B8gNrQAJ</td>\n",
       "      <td>100.0</td>\n",
       "      <td>89.4425</td>\n",
       "      <td>1041707.0</td>\n",
       "      <td>3.0</td>\n",
       "      <td>1.0</td>\n",
       "      <td>a0R4K0000020w2DUAQ</td>\n",
       "      <td>a0P4K0000012KbiUAE</td>\n",
       "    </tr>\n",
       "    <tr>\n",
       "      <th>6</th>\n",
       "      <td>0034K00000B8gNvQAJ</td>\n",
       "      <td>91.0</td>\n",
       "      <td>93.6100</td>\n",
       "      <td>655482.0</td>\n",
       "      <td>2.0</td>\n",
       "      <td>2.0</td>\n",
       "      <td>a0R4K0000020w2DUAQ</td>\n",
       "      <td>a0P4K0000012Kl8UAE</td>\n",
       "    </tr>\n",
       "    <tr>\n",
       "      <th>7</th>\n",
       "      <td>0034K00000BBF44QAH</td>\n",
       "      <td>NaN</td>\n",
       "      <td>0.0000</td>\n",
       "      <td>57088.0</td>\n",
       "      <td>NaN</td>\n",
       "      <td>NaN</td>\n",
       "      <td>a0R4K0000020w2DUAQ</td>\n",
       "      <td>a0P4K0000012KbzUAE</td>\n",
       "    </tr>\n",
       "    <tr>\n",
       "      <th>8</th>\n",
       "      <td>0034K000009yExdQAE</td>\n",
       "      <td>96.0</td>\n",
       "      <td>94.4450</td>\n",
       "      <td>744346.0</td>\n",
       "      <td>2.0</td>\n",
       "      <td>2.0</td>\n",
       "      <td>a0R4K0000020w2DUAQ</td>\n",
       "      <td>a0P4K0000012KbgUAE</td>\n",
       "    </tr>\n",
       "    <tr>\n",
       "      <th>9</th>\n",
       "      <td>0034K00000B8gOOQAZ</td>\n",
       "      <td>100.0</td>\n",
       "      <td>92.7775</td>\n",
       "      <td>696430.0</td>\n",
       "      <td>3.0</td>\n",
       "      <td>3.0</td>\n",
       "      <td>a0R4K0000020w2DUAQ</td>\n",
       "      <td>a0P4K0000012KbpUAE</td>\n",
       "    </tr>\n",
       "    <tr>\n",
       "      <th>10</th>\n",
       "      <td>0034K00000B8gOFQAZ</td>\n",
       "      <td>99.0</td>\n",
       "      <td>86.9425</td>\n",
       "      <td>606555.0</td>\n",
       "      <td>2.0</td>\n",
       "      <td>2.0</td>\n",
       "      <td>a0R4K0000020w2DUAQ</td>\n",
       "      <td>a0P4K0000012KboUAE</td>\n",
       "    </tr>\n",
       "    <tr>\n",
       "      <th>11</th>\n",
       "      <td>0034K00000I8Q8EQAV</td>\n",
       "      <td>91.0</td>\n",
       "      <td>97.5000</td>\n",
       "      <td>281336.0</td>\n",
       "      <td>2.0</td>\n",
       "      <td>2.0</td>\n",
       "      <td>a0R4K0000020w2DUAQ</td>\n",
       "      <td>a0P4K0000012KbjUAE</td>\n",
       "    </tr>\n",
       "    <tr>\n",
       "      <th>12</th>\n",
       "      <td>0034K00000BBF3vQAH</td>\n",
       "      <td>100.0</td>\n",
       "      <td>93.6100</td>\n",
       "      <td>1264251.0</td>\n",
       "      <td>2.0</td>\n",
       "      <td>3.0</td>\n",
       "      <td>a0R4K0000020w2DUAQ</td>\n",
       "      <td>a0P4K0000012KbyUAE</td>\n",
       "    </tr>\n",
       "    <tr>\n",
       "      <th>13</th>\n",
       "      <td>0034K00000BBPB8QAP</td>\n",
       "      <td>90.0</td>\n",
       "      <td>91.9450</td>\n",
       "      <td>566208.0</td>\n",
       "      <td>1.0</td>\n",
       "      <td>2.0</td>\n",
       "      <td>a0R4K0000020w2DUAQ</td>\n",
       "      <td>a0P4K0000012Kc0UAE</td>\n",
       "    </tr>\n",
       "    <tr>\n",
       "      <th>14</th>\n",
       "      <td>0034K00000BAy3DQAT</td>\n",
       "      <td>100.0</td>\n",
       "      <td>89.4450</td>\n",
       "      <td>1024793.0</td>\n",
       "      <td>2.0</td>\n",
       "      <td>2.0</td>\n",
       "      <td>a0R4K0000020w2DUAQ</td>\n",
       "      <td>a0P4K0000012KbvUAE</td>\n",
       "    </tr>\n",
       "    <tr>\n",
       "      <th>15</th>\n",
       "      <td>0034K00000B8gOBQAZ</td>\n",
       "      <td>100.0</td>\n",
       "      <td>93.3325</td>\n",
       "      <td>1252406.0</td>\n",
       "      <td>3.0</td>\n",
       "      <td>3.0</td>\n",
       "      <td>a0R4K0000020w2DUAQ</td>\n",
       "      <td>a0P4K0000012KbnUAE</td>\n",
       "    </tr>\n",
       "    <tr>\n",
       "      <th>16</th>\n",
       "      <td>0034K00000B8gNoQAJ</td>\n",
       "      <td>96.0</td>\n",
       "      <td>83.3350</td>\n",
       "      <td>82926.0</td>\n",
       "      <td>2.0</td>\n",
       "      <td>1.0</td>\n",
       "      <td>a0R4K0000020w2DUAQ</td>\n",
       "      <td>a0P4K0000012KbhUAE</td>\n",
       "    </tr>\n",
       "    <tr>\n",
       "      <th>17</th>\n",
       "      <td>0034K00000B8uNUQAZ</td>\n",
       "      <td>NaN</td>\n",
       "      <td>NaN</td>\n",
       "      <td>58962.0</td>\n",
       "      <td>NaN</td>\n",
       "      <td>NaN</td>\n",
       "      <td>a0R4K0000020w2DUAQ</td>\n",
       "      <td>a0P4K0000012Kc2UAE</td>\n",
       "    </tr>\n",
       "    <tr>\n",
       "      <th>18</th>\n",
       "      <td>0034K0000081hl8QAA</td>\n",
       "      <td>NaN</td>\n",
       "      <td>NaN</td>\n",
       "      <td>738642.0</td>\n",
       "      <td>NaN</td>\n",
       "      <td>NaN</td>\n",
       "      <td>a0R4K0000020w2DUAQ</td>\n",
       "      <td>a0P4K0000012TEjUAM</td>\n",
       "    </tr>\n",
       "    <tr>\n",
       "      <th>19</th>\n",
       "      <td>0034K00000AApEBQA1</td>\n",
       "      <td>65.0</td>\n",
       "      <td>82.9175</td>\n",
       "      <td>72565.0</td>\n",
       "      <td>2.0</td>\n",
       "      <td>1.0</td>\n",
       "      <td>a0R4K0000020w2DUAQ</td>\n",
       "      <td>None</td>\n",
       "    </tr>\n",
       "  </tbody>\n",
       "</table>\n",
       "</div>"
      ],
      "text/plain": [
       "       hed__Contact__c  mor_Attendance_Score__c  IP_Grade_Average__c  \\\n",
       "0   0034K00000I7xWaQAJ                      NaN                  NaN   \n",
       "1   0034K00000B8uNfQAJ                      NaN                  NaN   \n",
       "2   0034K00000B8gO1QAJ                     78.0              23.6100   \n",
       "3   0034K00000BAy3KQAT                     96.0              95.0000   \n",
       "4   0034K00000B8gOeQAJ                     96.0              93.6100   \n",
       "5   0034K00000B8gNrQAJ                    100.0              89.4425   \n",
       "6   0034K00000B8gNvQAJ                     91.0              93.6100   \n",
       "7   0034K00000BBF44QAH                      NaN               0.0000   \n",
       "8   0034K000009yExdQAE                     96.0              94.4450   \n",
       "9   0034K00000B8gOOQAZ                    100.0              92.7775   \n",
       "10  0034K00000B8gOFQAZ                     99.0              86.9425   \n",
       "11  0034K00000I8Q8EQAV                     91.0              97.5000   \n",
       "12  0034K00000BBF3vQAH                    100.0              93.6100   \n",
       "13  0034K00000BBPB8QAP                     90.0              91.9450   \n",
       "14  0034K00000BAy3DQAT                    100.0              89.4450   \n",
       "15  0034K00000B8gOBQAZ                    100.0              93.3325   \n",
       "16  0034K00000B8gNoQAJ                     96.0              83.3350   \n",
       "17  0034K00000B8uNUQAZ                      NaN                  NaN   \n",
       "18  0034K0000081hl8QAA                      NaN                  NaN   \n",
       "19  0034K00000AApEBQA1                     65.0              82.9175   \n",
       "\n",
       "    mor_Total_Activity_Time__c  Participations_Level__c  Page_Views_Level__c  \\\n",
       "0                      32237.0                      NaN                  NaN   \n",
       "1                          NaN                      NaN                  NaN   \n",
       "2                     239165.0                      2.0                  2.0   \n",
       "3                    1238278.0                      2.0                  2.0   \n",
       "4                     406821.0                      2.0                  2.0   \n",
       "5                    1041707.0                      3.0                  1.0   \n",
       "6                     655482.0                      2.0                  2.0   \n",
       "7                      57088.0                      NaN                  NaN   \n",
       "8                     744346.0                      2.0                  2.0   \n",
       "9                     696430.0                      3.0                  3.0   \n",
       "10                    606555.0                      2.0                  2.0   \n",
       "11                    281336.0                      2.0                  2.0   \n",
       "12                   1264251.0                      2.0                  3.0   \n",
       "13                    566208.0                      1.0                  2.0   \n",
       "14                   1024793.0                      2.0                  2.0   \n",
       "15                   1252406.0                      3.0                  3.0   \n",
       "16                     82926.0                      2.0                  1.0   \n",
       "17                     58962.0                      NaN                  NaN   \n",
       "18                    738642.0                      NaN                  NaN   \n",
       "19                     72565.0                      2.0                  1.0   \n",
       "\n",
       "   hed__Course_Offering__c Prerequisite_Course_Connection__c  \n",
       "0       a0R4K0000020w2DUAQ                              None  \n",
       "1       a0R4K0000020w2DUAQ                              None  \n",
       "2       a0R4K0000020w2DUAQ                a0P4K0000012KbmUAE  \n",
       "3       a0R4K0000020w2DUAQ                a0P4K0000012KbwUAE  \n",
       "4       a0R4K0000020w2DUAQ                a0P4K0000012KbsUAE  \n",
       "5       a0R4K0000020w2DUAQ                a0P4K0000012KbiUAE  \n",
       "6       a0R4K0000020w2DUAQ                a0P4K0000012Kl8UAE  \n",
       "7       a0R4K0000020w2DUAQ                a0P4K0000012KbzUAE  \n",
       "8       a0R4K0000020w2DUAQ                a0P4K0000012KbgUAE  \n",
       "9       a0R4K0000020w2DUAQ                a0P4K0000012KbpUAE  \n",
       "10      a0R4K0000020w2DUAQ                a0P4K0000012KboUAE  \n",
       "11      a0R4K0000020w2DUAQ                a0P4K0000012KbjUAE  \n",
       "12      a0R4K0000020w2DUAQ                a0P4K0000012KbyUAE  \n",
       "13      a0R4K0000020w2DUAQ                a0P4K0000012Kc0UAE  \n",
       "14      a0R4K0000020w2DUAQ                a0P4K0000012KbvUAE  \n",
       "15      a0R4K0000020w2DUAQ                a0P4K0000012KbnUAE  \n",
       "16      a0R4K0000020w2DUAQ                a0P4K0000012KbhUAE  \n",
       "17      a0R4K0000020w2DUAQ                a0P4K0000012Kc2UAE  \n",
       "18      a0R4K0000020w2DUAQ                a0P4K0000012TEjUAM  \n",
       "19      a0R4K0000020w2DUAQ                              None  "
      ]
     },
     "execution_count": 451,
     "metadata": {},
     "output_type": "execute_result"
    }
   ],
   "source": [
    "pd.DataFrame(df_android.take(100), columns=df_android.columns).head(100)"
   ]
  },
  {
   "cell_type": "code",
   "execution_count": 452,
   "id": "c43aed1a-5a71-43fe-96f1-77409af31b1d",
   "metadata": {},
   "outputs": [
    {
     "data": {
      "text/plain": [
       "20"
      ]
     },
     "execution_count": 452,
     "metadata": {},
     "output_type": "execute_result"
    }
   ],
   "source": [
    "df_android.count()"
   ]
  },
  {
   "cell_type": "markdown",
   "id": "9c23f766-a141-4b3d-a429-b4f312e75fc8",
   "metadata": {},
   "source": [
    "### Angular students data"
   ]
  },
  {
   "cell_type": "code",
   "execution_count": 453,
   "id": "9cfd7c68-7656-45ca-8548-36bf0be1fab7",
   "metadata": {},
   "outputs": [],
   "source": [
    "df_angular=spark.read.option('header','true').csv('Assignment Data - Angular.csv', inferSchema=True)"
   ]
  },
  {
   "cell_type": "code",
   "execution_count": 454,
   "id": "f3db7bb9-f892-471a-b193-74e83e026472",
   "metadata": {},
   "outputs": [
    {
     "data": {
      "text/html": [
       "<div>\n",
       "<style scoped>\n",
       "    .dataframe tbody tr th:only-of-type {\n",
       "        vertical-align: middle;\n",
       "    }\n",
       "\n",
       "    .dataframe tbody tr th {\n",
       "        vertical-align: top;\n",
       "    }\n",
       "\n",
       "    .dataframe thead th {\n",
       "        text-align: right;\n",
       "    }\n",
       "</style>\n",
       "<table border=\"1\" class=\"dataframe\">\n",
       "  <thead>\n",
       "    <tr style=\"text-align: right;\">\n",
       "      <th></th>\n",
       "      <th>hed__Contact__c</th>\n",
       "      <th>mor_Attendance_Score__c</th>\n",
       "      <th>IP_Grade_Average__c</th>\n",
       "      <th>mor_Total_Activity_Time__c</th>\n",
       "      <th>Participations_Level__c</th>\n",
       "      <th>Page_Views_Level__c</th>\n",
       "      <th>hed__Course_Offering__c</th>\n",
       "      <th>Prerequisite_Course_Connection__c</th>\n",
       "    </tr>\n",
       "  </thead>\n",
       "  <tbody>\n",
       "    <tr>\n",
       "      <th>0</th>\n",
       "      <td>0034K00000AAqD5QAL</td>\n",
       "      <td>NaN</td>\n",
       "      <td>NaN</td>\n",
       "      <td>32980</td>\n",
       "      <td>NaN</td>\n",
       "      <td>NaN</td>\n",
       "      <td>a0R4K000001z16cUAA</td>\n",
       "      <td>a0P4K000001LuzQUAS</td>\n",
       "    </tr>\n",
       "    <tr>\n",
       "      <th>1</th>\n",
       "      <td>0034K00000BAy34QAD</td>\n",
       "      <td>100.0</td>\n",
       "      <td>88.635</td>\n",
       "      <td>518086</td>\n",
       "      <td>1.0</td>\n",
       "      <td>3.0</td>\n",
       "      <td>a0R4K000001z16cUAA</td>\n",
       "      <td>a0P4K000001LuzRUAS</td>\n",
       "    </tr>\n",
       "    <tr>\n",
       "      <th>2</th>\n",
       "      <td>0034K00000B8gO1QAJ</td>\n",
       "      <td>100.0</td>\n",
       "      <td>71.590</td>\n",
       "      <td>219604</td>\n",
       "      <td>3.0</td>\n",
       "      <td>3.0</td>\n",
       "      <td>a0R4K000001z16cUAA</td>\n",
       "      <td>a0P4K000001LuzTUAS</td>\n",
       "    </tr>\n",
       "    <tr>\n",
       "      <th>3</th>\n",
       "      <td>0034K00000B8gOhQAJ</td>\n",
       "      <td>100.0</td>\n",
       "      <td>64.770</td>\n",
       "      <td>38278</td>\n",
       "      <td>2.0</td>\n",
       "      <td>2.0</td>\n",
       "      <td>a0R4K000001z16cUAA</td>\n",
       "      <td>a0P4K000001LuzUUAS</td>\n",
       "    </tr>\n",
       "    <tr>\n",
       "      <th>4</th>\n",
       "      <td>0034K00000B8gOQQAZ</td>\n",
       "      <td>100.0</td>\n",
       "      <td>81.820</td>\n",
       "      <td>310581</td>\n",
       "      <td>3.0</td>\n",
       "      <td>2.0</td>\n",
       "      <td>a0R4K000001z16cUAA</td>\n",
       "      <td>a0P4K000001LuzVUAS</td>\n",
       "    </tr>\n",
       "  </tbody>\n",
       "</table>\n",
       "</div>"
      ],
      "text/plain": [
       "      hed__Contact__c  mor_Attendance_Score__c  IP_Grade_Average__c  \\\n",
       "0  0034K00000AAqD5QAL                      NaN                  NaN   \n",
       "1  0034K00000BAy34QAD                    100.0               88.635   \n",
       "2  0034K00000B8gO1QAJ                    100.0               71.590   \n",
       "3  0034K00000B8gOhQAJ                    100.0               64.770   \n",
       "4  0034K00000B8gOQQAZ                    100.0               81.820   \n",
       "\n",
       "   mor_Total_Activity_Time__c  Participations_Level__c  Page_Views_Level__c  \\\n",
       "0                       32980                      NaN                  NaN   \n",
       "1                      518086                      1.0                  3.0   \n",
       "2                      219604                      3.0                  3.0   \n",
       "3                       38278                      2.0                  2.0   \n",
       "4                      310581                      3.0                  2.0   \n",
       "\n",
       "  hed__Course_Offering__c Prerequisite_Course_Connection__c  \n",
       "0      a0R4K000001z16cUAA                a0P4K000001LuzQUAS  \n",
       "1      a0R4K000001z16cUAA                a0P4K000001LuzRUAS  \n",
       "2      a0R4K000001z16cUAA                a0P4K000001LuzTUAS  \n",
       "3      a0R4K000001z16cUAA                a0P4K000001LuzUUAS  \n",
       "4      a0R4K000001z16cUAA                a0P4K000001LuzVUAS  "
      ]
     },
     "execution_count": 454,
     "metadata": {},
     "output_type": "execute_result"
    }
   ],
   "source": [
    "pd.DataFrame(df_angular.take(5), columns=df_angular.columns).head(5)"
   ]
  },
  {
   "cell_type": "code",
   "execution_count": 455,
   "id": "84a752bc-7e7c-463f-8424-84d9ae0c390b",
   "metadata": {},
   "outputs": [
    {
     "data": {
      "text/plain": [
       "101"
      ]
     },
     "execution_count": 455,
     "metadata": {},
     "output_type": "execute_result"
    }
   ],
   "source": [
    "df_angular.count()"
   ]
  },
  {
   "cell_type": "markdown",
   "id": "f7b87623-31a2-47c2-a2b9-7f2d18f342ec",
   "metadata": {},
   "source": [
    "### Django student data"
   ]
  },
  {
   "cell_type": "code",
   "execution_count": 456,
   "id": "e3cd9c81-7178-4a24-9233-0f10d1e8cefb",
   "metadata": {},
   "outputs": [],
   "source": [
    "df_django=spark.read.option('header','true').csv('Assignment Data - Django.csv', inferSchema=True)"
   ]
  },
  {
   "cell_type": "code",
   "execution_count": 457,
   "id": "fc8fe3bc-04a8-4491-b2f9-d94e2e758595",
   "metadata": {},
   "outputs": [
    {
     "data": {
      "text/html": [
       "<div>\n",
       "<style scoped>\n",
       "    .dataframe tbody tr th:only-of-type {\n",
       "        vertical-align: middle;\n",
       "    }\n",
       "\n",
       "    .dataframe tbody tr th {\n",
       "        vertical-align: top;\n",
       "    }\n",
       "\n",
       "    .dataframe thead th {\n",
       "        text-align: right;\n",
       "    }\n",
       "</style>\n",
       "<table border=\"1\" class=\"dataframe\">\n",
       "  <thead>\n",
       "    <tr style=\"text-align: right;\">\n",
       "      <th></th>\n",
       "      <th>hed__Contact__c</th>\n",
       "      <th>mor_Attendance_Score__c</th>\n",
       "      <th>IP_Grade_Average__c</th>\n",
       "      <th>mor_Total_Activity_Time__c</th>\n",
       "      <th>Participations_Level__c</th>\n",
       "      <th>Page_Views_Level__c</th>\n",
       "      <th>hed__Course_Offering__c</th>\n",
       "      <th>Prerequisite_Course_Connection__c</th>\n",
       "    </tr>\n",
       "  </thead>\n",
       "  <tbody>\n",
       "    <tr>\n",
       "      <th>0</th>\n",
       "      <td>0034K00000BAy36QAD</td>\n",
       "      <td>63.0</td>\n",
       "      <td>82.7325</td>\n",
       "      <td>303945.0</td>\n",
       "      <td>2.0</td>\n",
       "      <td>2.0</td>\n",
       "      <td>a0R4K0000020w1ZUAQ</td>\n",
       "      <td>None</td>\n",
       "    </tr>\n",
       "    <tr>\n",
       "      <th>1</th>\n",
       "      <td>0034K00000B8uNmQAJ</td>\n",
       "      <td>NaN</td>\n",
       "      <td>NaN</td>\n",
       "      <td>16175.0</td>\n",
       "      <td>NaN</td>\n",
       "      <td>NaN</td>\n",
       "      <td>a0R4K0000020w1ZUAQ</td>\n",
       "      <td>a0P4K0000012PqUUAU</td>\n",
       "    </tr>\n",
       "    <tr>\n",
       "      <th>2</th>\n",
       "      <td>0034K00000B8uNfQAJ</td>\n",
       "      <td>NaN</td>\n",
       "      <td>NaN</td>\n",
       "      <td>NaN</td>\n",
       "      <td>NaN</td>\n",
       "      <td>NaN</td>\n",
       "      <td>a0R4K0000020w1ZUAQ</td>\n",
       "      <td>None</td>\n",
       "    </tr>\n",
       "    <tr>\n",
       "      <th>3</th>\n",
       "      <td>0034K00000BAy31QAD</td>\n",
       "      <td>NaN</td>\n",
       "      <td>NaN</td>\n",
       "      <td>0.0</td>\n",
       "      <td>NaN</td>\n",
       "      <td>NaN</td>\n",
       "      <td>a0R4K0000020w1ZUAQ</td>\n",
       "      <td>a0P4K000000fx3UUAQ</td>\n",
       "    </tr>\n",
       "    <tr>\n",
       "      <th>4</th>\n",
       "      <td>0034K00000B8gNtQAJ</td>\n",
       "      <td>100.0</td>\n",
       "      <td>0.0000</td>\n",
       "      <td>194355.0</td>\n",
       "      <td>1.0</td>\n",
       "      <td>1.0</td>\n",
       "      <td>a0R4K0000020w1ZUAQ</td>\n",
       "      <td>a0P4K000000fx37UAA</td>\n",
       "    </tr>\n",
       "  </tbody>\n",
       "</table>\n",
       "</div>"
      ],
      "text/plain": [
       "      hed__Contact__c  mor_Attendance_Score__c  IP_Grade_Average__c  \\\n",
       "0  0034K00000BAy36QAD                     63.0              82.7325   \n",
       "1  0034K00000B8uNmQAJ                      NaN                  NaN   \n",
       "2  0034K00000B8uNfQAJ                      NaN                  NaN   \n",
       "3  0034K00000BAy31QAD                      NaN                  NaN   \n",
       "4  0034K00000B8gNtQAJ                    100.0               0.0000   \n",
       "\n",
       "   mor_Total_Activity_Time__c  Participations_Level__c  Page_Views_Level__c  \\\n",
       "0                    303945.0                      2.0                  2.0   \n",
       "1                     16175.0                      NaN                  NaN   \n",
       "2                         NaN                      NaN                  NaN   \n",
       "3                         0.0                      NaN                  NaN   \n",
       "4                    194355.0                      1.0                  1.0   \n",
       "\n",
       "  hed__Course_Offering__c Prerequisite_Course_Connection__c  \n",
       "0      a0R4K0000020w1ZUAQ                              None  \n",
       "1      a0R4K0000020w1ZUAQ                a0P4K0000012PqUUAU  \n",
       "2      a0R4K0000020w1ZUAQ                              None  \n",
       "3      a0R4K0000020w1ZUAQ                a0P4K000000fx3UUAQ  \n",
       "4      a0R4K0000020w1ZUAQ                a0P4K000000fx37UAA  "
      ]
     },
     "execution_count": 457,
     "metadata": {},
     "output_type": "execute_result"
    }
   ],
   "source": [
    "pd.DataFrame(df_django.take(5), columns=df_django.columns).head(5)"
   ]
  },
  {
   "cell_type": "code",
   "execution_count": 458,
   "id": "2d819ac7-3253-463d-9fa6-47aa8e0c5a2d",
   "metadata": {},
   "outputs": [
    {
     "data": {
      "text/plain": [
       "48"
      ]
     },
     "execution_count": 458,
     "metadata": {},
     "output_type": "execute_result"
    }
   ],
   "source": [
    "df_django.count()"
   ]
  },
  {
   "cell_type": "markdown",
   "id": "2648fa12-de8f-4b22-9258-0522feb3835f",
   "metadata": {},
   "source": [
    "### Intro to Software Dev student data"
   ]
  },
  {
   "cell_type": "code",
   "execution_count": 459,
   "id": "3367afe9-4302-43d2-83ca-a218b176e021",
   "metadata": {},
   "outputs": [],
   "source": [
    "df_softwareIntro =spark.read.option('header','true').csv('Assignment Data - Intro to Software Dev.csv', inferSchema=True)"
   ]
  },
  {
   "cell_type": "code",
   "execution_count": 460,
   "id": "ec6f37a2-cf11-4ff3-85cf-3a43498189b4",
   "metadata": {},
   "outputs": [
    {
     "data": {
      "text/html": [
       "<div>\n",
       "<style scoped>\n",
       "    .dataframe tbody tr th:only-of-type {\n",
       "        vertical-align: middle;\n",
       "    }\n",
       "\n",
       "    .dataframe tbody tr th {\n",
       "        vertical-align: top;\n",
       "    }\n",
       "\n",
       "    .dataframe thead th {\n",
       "        text-align: right;\n",
       "    }\n",
       "</style>\n",
       "<table border=\"1\" class=\"dataframe\">\n",
       "  <thead>\n",
       "    <tr style=\"text-align: right;\">\n",
       "      <th></th>\n",
       "      <th>hed__Contact__c</th>\n",
       "      <th>mor_Attendance_Score__c</th>\n",
       "      <th>IP_Grade_Average__c</th>\n",
       "      <th>mor_Total_Activity_Time__c</th>\n",
       "      <th>Participations_Level__c</th>\n",
       "      <th>Page_Views_Level__c</th>\n",
       "      <th>hed__Course_Offering__c</th>\n",
       "      <th>Prerequisite_Course_Connection__c</th>\n",
       "    </tr>\n",
       "  </thead>\n",
       "  <tbody>\n",
       "    <tr>\n",
       "      <th>0</th>\n",
       "      <td>0034K00000B8uNfQAJ</td>\n",
       "      <td>NaN</td>\n",
       "      <td>0.00</td>\n",
       "      <td>NaN</td>\n",
       "      <td>NaN</td>\n",
       "      <td>NaN</td>\n",
       "      <td>a0R4K000001ynYnUAI</td>\n",
       "      <td>None</td>\n",
       "    </tr>\n",
       "    <tr>\n",
       "      <th>1</th>\n",
       "      <td>0034K000009yICAQA2</td>\n",
       "      <td>NaN</td>\n",
       "      <td>0.00</td>\n",
       "      <td>0.0</td>\n",
       "      <td>NaN</td>\n",
       "      <td>NaN</td>\n",
       "      <td>a0R4K000001ynYnUAI</td>\n",
       "      <td>None</td>\n",
       "    </tr>\n",
       "    <tr>\n",
       "      <th>2</th>\n",
       "      <td>0034K00000BAy3UQAT</td>\n",
       "      <td>100.0</td>\n",
       "      <td>98.61</td>\n",
       "      <td>1158852.0</td>\n",
       "      <td>2.0</td>\n",
       "      <td>3.0</td>\n",
       "      <td>a0R4K000001ynYnUAI</td>\n",
       "      <td>None</td>\n",
       "    </tr>\n",
       "    <tr>\n",
       "      <th>3</th>\n",
       "      <td>0034K00000B8gOLQAZ</td>\n",
       "      <td>NaN</td>\n",
       "      <td>0.00</td>\n",
       "      <td>31315.0</td>\n",
       "      <td>NaN</td>\n",
       "      <td>NaN</td>\n",
       "      <td>a0R4K000001ynYnUAI</td>\n",
       "      <td>None</td>\n",
       "    </tr>\n",
       "    <tr>\n",
       "      <th>4</th>\n",
       "      <td>0034K00000B8gOlQAJ</td>\n",
       "      <td>NaN</td>\n",
       "      <td>0.00</td>\n",
       "      <td>1150.0</td>\n",
       "      <td>NaN</td>\n",
       "      <td>NaN</td>\n",
       "      <td>a0R4K000001ynYnUAI</td>\n",
       "      <td>None</td>\n",
       "    </tr>\n",
       "  </tbody>\n",
       "</table>\n",
       "</div>"
      ],
      "text/plain": [
       "      hed__Contact__c  mor_Attendance_Score__c  IP_Grade_Average__c  \\\n",
       "0  0034K00000B8uNfQAJ                      NaN                 0.00   \n",
       "1  0034K000009yICAQA2                      NaN                 0.00   \n",
       "2  0034K00000BAy3UQAT                    100.0                98.61   \n",
       "3  0034K00000B8gOLQAZ                      NaN                 0.00   \n",
       "4  0034K00000B8gOlQAJ                      NaN                 0.00   \n",
       "\n",
       "   mor_Total_Activity_Time__c  Participations_Level__c  Page_Views_Level__c  \\\n",
       "0                         NaN                      NaN                  NaN   \n",
       "1                         0.0                      NaN                  NaN   \n",
       "2                   1158852.0                      2.0                  3.0   \n",
       "3                     31315.0                      NaN                  NaN   \n",
       "4                      1150.0                      NaN                  NaN   \n",
       "\n",
       "  hed__Course_Offering__c Prerequisite_Course_Connection__c  \n",
       "0      a0R4K000001ynYnUAI                              None  \n",
       "1      a0R4K000001ynYnUAI                              None  \n",
       "2      a0R4K000001ynYnUAI                              None  \n",
       "3      a0R4K000001ynYnUAI                              None  \n",
       "4      a0R4K000001ynYnUAI                              None  "
      ]
     },
     "execution_count": 460,
     "metadata": {},
     "output_type": "execute_result"
    }
   ],
   "source": [
    "pd.DataFrame(df_softwareIntro.take(5), columns=df_softwareIntro.columns).head(5)"
   ]
  },
  {
   "cell_type": "code",
   "execution_count": 461,
   "id": "b39533c2-2d9a-4794-be1e-76d925d50d80",
   "metadata": {},
   "outputs": [
    {
     "data": {
      "text/plain": [
       "141"
      ]
     },
     "execution_count": 461,
     "metadata": {},
     "output_type": "execute_result"
    }
   ],
   "source": [
    "df_softwareIntro.count()"
   ]
  },
  {
   "cell_type": "markdown",
   "id": "74ef6065-0adb-4959-adf0-dc4840f3aecc",
   "metadata": {},
   "source": [
    "### Java sudent data"
   ]
  },
  {
   "cell_type": "code",
   "execution_count": 462,
   "id": "cc869d6e-8520-4588-b3f2-3acd24898d7c",
   "metadata": {},
   "outputs": [],
   "source": [
    "df_java =spark.read.option('header','true').csv('Assignment Data - Java.csv', inferSchema=True)"
   ]
  },
  {
   "cell_type": "code",
   "execution_count": 463,
   "id": "9f6c5d57-c09d-46dd-8edb-294863fc2231",
   "metadata": {},
   "outputs": [
    {
     "data": {
      "text/html": [
       "<div>\n",
       "<style scoped>\n",
       "    .dataframe tbody tr th:only-of-type {\n",
       "        vertical-align: middle;\n",
       "    }\n",
       "\n",
       "    .dataframe tbody tr th {\n",
       "        vertical-align: top;\n",
       "    }\n",
       "\n",
       "    .dataframe thead th {\n",
       "        text-align: right;\n",
       "    }\n",
       "</style>\n",
       "<table border=\"1\" class=\"dataframe\">\n",
       "  <thead>\n",
       "    <tr style=\"text-align: right;\">\n",
       "      <th></th>\n",
       "      <th>hed__Contact__c</th>\n",
       "      <th>mor_Attendance_Score__c</th>\n",
       "      <th>IP_Grade_Average__c</th>\n",
       "      <th>mor_Total_Activity_Time__c</th>\n",
       "      <th>Participations_Level__c</th>\n",
       "      <th>Page_Views_Level__c</th>\n",
       "      <th>hed__Course_Offering__c</th>\n",
       "      <th>Prerequisite_Course_Connection__c</th>\n",
       "    </tr>\n",
       "  </thead>\n",
       "  <tbody>\n",
       "    <tr>\n",
       "      <th>0</th>\n",
       "      <td>0034K00000B8uNfQAJ</td>\n",
       "      <td>NaN</td>\n",
       "      <td>0.0000</td>\n",
       "      <td>NaN</td>\n",
       "      <td>NaN</td>\n",
       "      <td>NaN</td>\n",
       "      <td>a0R4K000001z5CJUAY</td>\n",
       "      <td>None</td>\n",
       "    </tr>\n",
       "    <tr>\n",
       "      <th>1</th>\n",
       "      <td>0034K00000B8uMEQAZ</td>\n",
       "      <td>NaN</td>\n",
       "      <td>0.0000</td>\n",
       "      <td>328.0</td>\n",
       "      <td>NaN</td>\n",
       "      <td>NaN</td>\n",
       "      <td>a0R4K000001z5CJUAY</td>\n",
       "      <td>None</td>\n",
       "    </tr>\n",
       "    <tr>\n",
       "      <th>2</th>\n",
       "      <td>0034K000009yExdQAE</td>\n",
       "      <td>100.0</td>\n",
       "      <td>80.2725</td>\n",
       "      <td>677572.0</td>\n",
       "      <td>2.0</td>\n",
       "      <td>2.0</td>\n",
       "      <td>a0R4K000001z5CJUAY</td>\n",
       "      <td>a0P4K000000fx1yUAA</td>\n",
       "    </tr>\n",
       "    <tr>\n",
       "      <th>3</th>\n",
       "      <td>0034K00000B8gNoQAJ</td>\n",
       "      <td>100.0</td>\n",
       "      <td>77.0775</td>\n",
       "      <td>170711.0</td>\n",
       "      <td>3.0</td>\n",
       "      <td>1.0</td>\n",
       "      <td>a0R4K000001z5CJUAY</td>\n",
       "      <td>a0P4K000000fx2rUAA</td>\n",
       "    </tr>\n",
       "    <tr>\n",
       "      <th>4</th>\n",
       "      <td>0034K00000B8gNrQAJ</td>\n",
       "      <td>100.0</td>\n",
       "      <td>79.0175</td>\n",
       "      <td>1639802.0</td>\n",
       "      <td>2.0</td>\n",
       "      <td>2.0</td>\n",
       "      <td>a0R4K000001z5CJUAY</td>\n",
       "      <td>a0P4K000000fx1sUAA</td>\n",
       "    </tr>\n",
       "  </tbody>\n",
       "</table>\n",
       "</div>"
      ],
      "text/plain": [
       "      hed__Contact__c  mor_Attendance_Score__c  IP_Grade_Average__c  \\\n",
       "0  0034K00000B8uNfQAJ                      NaN               0.0000   \n",
       "1  0034K00000B8uMEQAZ                      NaN               0.0000   \n",
       "2  0034K000009yExdQAE                    100.0              80.2725   \n",
       "3  0034K00000B8gNoQAJ                    100.0              77.0775   \n",
       "4  0034K00000B8gNrQAJ                    100.0              79.0175   \n",
       "\n",
       "   mor_Total_Activity_Time__c  Participations_Level__c  Page_Views_Level__c  \\\n",
       "0                         NaN                      NaN                  NaN   \n",
       "1                       328.0                      NaN                  NaN   \n",
       "2                    677572.0                      2.0                  2.0   \n",
       "3                    170711.0                      3.0                  1.0   \n",
       "4                   1639802.0                      2.0                  2.0   \n",
       "\n",
       "  hed__Course_Offering__c Prerequisite_Course_Connection__c  \n",
       "0      a0R4K000001z5CJUAY                              None  \n",
       "1      a0R4K000001z5CJUAY                              None  \n",
       "2      a0R4K000001z5CJUAY                a0P4K000000fx1yUAA  \n",
       "3      a0R4K000001z5CJUAY                a0P4K000000fx2rUAA  \n",
       "4      a0R4K000001z5CJUAY                a0P4K000000fx1sUAA  "
      ]
     },
     "execution_count": 463,
     "metadata": {},
     "output_type": "execute_result"
    }
   ],
   "source": [
    "pd.DataFrame(df_java.take(5), columns=df_java.columns).head(5)"
   ]
  },
  {
   "cell_type": "markdown",
   "id": "064744aa-f1bb-4ef9-9e4b-d86931181520",
   "metadata": {},
   "source": [
    "### Professionaldev student data"
   ]
  },
  {
   "cell_type": "code",
   "execution_count": 464,
   "id": "4d035a9c-75c1-41e6-a5a3-db4cac16d13b",
   "metadata": {},
   "outputs": [],
   "source": [
    "df_Professionaldev =spark.read.option('header','true').csv('Assignment Data - Professional Development.csv', inferSchema=True)"
   ]
  },
  {
   "cell_type": "code",
   "execution_count": 465,
   "id": "6388d193-3737-4ad0-8995-fba0557973fb",
   "metadata": {},
   "outputs": [
    {
     "data": {
      "text/html": [
       "<div>\n",
       "<style scoped>\n",
       "    .dataframe tbody tr th:only-of-type {\n",
       "        vertical-align: middle;\n",
       "    }\n",
       "\n",
       "    .dataframe tbody tr th {\n",
       "        vertical-align: top;\n",
       "    }\n",
       "\n",
       "    .dataframe thead th {\n",
       "        text-align: right;\n",
       "    }\n",
       "</style>\n",
       "<table border=\"1\" class=\"dataframe\">\n",
       "  <thead>\n",
       "    <tr style=\"text-align: right;\">\n",
       "      <th></th>\n",
       "      <th>hed__Contact__c</th>\n",
       "      <th>mor_Attendance_Score__c</th>\n",
       "      <th>IP_Grade_Average__c</th>\n",
       "      <th>mor_Total_Activity_Time__c</th>\n",
       "      <th>Participations_Level__c</th>\n",
       "      <th>Page_Views_Level__c</th>\n",
       "      <th>hed__Course_Offering__c</th>\n",
       "      <th>Prerequisite_Course_Connection__c</th>\n",
       "    </tr>\n",
       "  </thead>\n",
       "  <tbody>\n",
       "    <tr>\n",
       "      <th>0</th>\n",
       "      <td>0034K00000B8uNfQAJ</td>\n",
       "      <td>None</td>\n",
       "      <td>None</td>\n",
       "      <td>NaN</td>\n",
       "      <td>NaN</td>\n",
       "      <td>NaN</td>\n",
       "      <td>a0R4K000002ycAwUAI</td>\n",
       "      <td>None</td>\n",
       "    </tr>\n",
       "    <tr>\n",
       "      <th>1</th>\n",
       "      <td>0034K00000AApEBQA1</td>\n",
       "      <td>None</td>\n",
       "      <td>None</td>\n",
       "      <td>21614.0</td>\n",
       "      <td>0.0</td>\n",
       "      <td>2.0</td>\n",
       "      <td>a0R4K000002ycAwUAI</td>\n",
       "      <td>None</td>\n",
       "    </tr>\n",
       "    <tr>\n",
       "      <th>2</th>\n",
       "      <td>0034K00000BAy34QAD</td>\n",
       "      <td>None</td>\n",
       "      <td>None</td>\n",
       "      <td>1230.0</td>\n",
       "      <td>0.0</td>\n",
       "      <td>1.0</td>\n",
       "      <td>a0R4K000002ycAwUAI</td>\n",
       "      <td>None</td>\n",
       "    </tr>\n",
       "    <tr>\n",
       "      <th>3</th>\n",
       "      <td>0034K000009yjMmQAI</td>\n",
       "      <td>None</td>\n",
       "      <td>None</td>\n",
       "      <td>19221.0</td>\n",
       "      <td>0.0</td>\n",
       "      <td>3.0</td>\n",
       "      <td>a0R4K000002ycAwUAI</td>\n",
       "      <td>None</td>\n",
       "    </tr>\n",
       "    <tr>\n",
       "      <th>4</th>\n",
       "      <td>0034K00000AApaZQAT</td>\n",
       "      <td>None</td>\n",
       "      <td>None</td>\n",
       "      <td>109088.0</td>\n",
       "      <td>0.0</td>\n",
       "      <td>3.0</td>\n",
       "      <td>a0R4K000002ycAwUAI</td>\n",
       "      <td>None</td>\n",
       "    </tr>\n",
       "  </tbody>\n",
       "</table>\n",
       "</div>"
      ],
      "text/plain": [
       "      hed__Contact__c mor_Attendance_Score__c IP_Grade_Average__c  \\\n",
       "0  0034K00000B8uNfQAJ                    None                None   \n",
       "1  0034K00000AApEBQA1                    None                None   \n",
       "2  0034K00000BAy34QAD                    None                None   \n",
       "3  0034K000009yjMmQAI                    None                None   \n",
       "4  0034K00000AApaZQAT                    None                None   \n",
       "\n",
       "   mor_Total_Activity_Time__c  Participations_Level__c  Page_Views_Level__c  \\\n",
       "0                         NaN                      NaN                  NaN   \n",
       "1                     21614.0                      0.0                  2.0   \n",
       "2                      1230.0                      0.0                  1.0   \n",
       "3                     19221.0                      0.0                  3.0   \n",
       "4                    109088.0                      0.0                  3.0   \n",
       "\n",
       "  hed__Course_Offering__c Prerequisite_Course_Connection__c  \n",
       "0      a0R4K000002ycAwUAI                              None  \n",
       "1      a0R4K000002ycAwUAI                              None  \n",
       "2      a0R4K000002ycAwUAI                              None  \n",
       "3      a0R4K000002ycAwUAI                              None  \n",
       "4      a0R4K000002ycAwUAI                              None  "
      ]
     },
     "execution_count": 465,
     "metadata": {},
     "output_type": "execute_result"
    }
   ],
   "source": [
    "pd.DataFrame(df_Professionaldev.take(5), columns=df_Professionaldev.columns).head(5)"
   ]
  },
  {
   "cell_type": "markdown",
   "id": "331c87e3-e6fa-48bf-b22a-eb3d37250b00",
   "metadata": {},
   "source": [
    "### Python_Flask student data"
   ]
  },
  {
   "cell_type": "code",
   "execution_count": 466,
   "id": "a2fe78d8-cd23-48b8-a17b-5dcdf0f2ad19",
   "metadata": {},
   "outputs": [],
   "source": [
    "df_flask =spark.read.option('header','true').csv('Assignment Data - Python_Flask.csv', inferSchema=True)"
   ]
  },
  {
   "cell_type": "code",
   "execution_count": 467,
   "id": "682155d7-b7e3-4f06-8ee9-2918dd21920f",
   "metadata": {},
   "outputs": [
    {
     "data": {
      "text/html": [
       "<div>\n",
       "<style scoped>\n",
       "    .dataframe tbody tr th:only-of-type {\n",
       "        vertical-align: middle;\n",
       "    }\n",
       "\n",
       "    .dataframe tbody tr th {\n",
       "        vertical-align: top;\n",
       "    }\n",
       "\n",
       "    .dataframe thead th {\n",
       "        text-align: right;\n",
       "    }\n",
       "</style>\n",
       "<table border=\"1\" class=\"dataframe\">\n",
       "  <thead>\n",
       "    <tr style=\"text-align: right;\">\n",
       "      <th></th>\n",
       "      <th>hed__Contact__c</th>\n",
       "      <th>mor_Attendance_Score__c</th>\n",
       "      <th>IP_Grade_Average__c</th>\n",
       "      <th>mor_Total_Activity_Time__c</th>\n",
       "      <th>Participations_Level__c</th>\n",
       "      <th>Page_Views_Level__c</th>\n",
       "      <th>hed__Course_Offering__c</th>\n",
       "      <th>Prerequisite_Course_Connection__c</th>\n",
       "    </tr>\n",
       "  </thead>\n",
       "  <tbody>\n",
       "    <tr>\n",
       "      <th>0</th>\n",
       "      <td>0034K00000AAqD5QAL</td>\n",
       "      <td>NaN</td>\n",
       "      <td>NaN</td>\n",
       "      <td>0</td>\n",
       "      <td>NaN</td>\n",
       "      <td>NaN</td>\n",
       "      <td>a0R4K000001z5C4UAI</td>\n",
       "      <td>a0P4K000000fx1eUAA</td>\n",
       "    </tr>\n",
       "    <tr>\n",
       "      <th>1</th>\n",
       "      <td>0034K00000BAy34QAD</td>\n",
       "      <td>100.0</td>\n",
       "      <td>93.1800</td>\n",
       "      <td>887219</td>\n",
       "      <td>2.0</td>\n",
       "      <td>3.0</td>\n",
       "      <td>a0R4K000001z5C4UAI</td>\n",
       "      <td>a0P4K000000fx1fUAA</td>\n",
       "    </tr>\n",
       "    <tr>\n",
       "      <th>2</th>\n",
       "      <td>0034K00000B8gOhQAJ</td>\n",
       "      <td>100.0</td>\n",
       "      <td>74.0350</td>\n",
       "      <td>137896</td>\n",
       "      <td>3.0</td>\n",
       "      <td>2.0</td>\n",
       "      <td>a0R4K000001z5C4UAI</td>\n",
       "      <td>a0P4K000000fx1hUAA</td>\n",
       "    </tr>\n",
       "    <tr>\n",
       "      <th>3</th>\n",
       "      <td>0034K00000B8gOQQAZ</td>\n",
       "      <td>100.0</td>\n",
       "      <td>78.3825</td>\n",
       "      <td>840909</td>\n",
       "      <td>3.0</td>\n",
       "      <td>2.0</td>\n",
       "      <td>a0R4K000001z5C4UAI</td>\n",
       "      <td>a0P4K000000fx1iUAA</td>\n",
       "    </tr>\n",
       "    <tr>\n",
       "      <th>4</th>\n",
       "      <td>0034K00000BAy3UQAT</td>\n",
       "      <td>100.0</td>\n",
       "      <td>79.5450</td>\n",
       "      <td>1612422</td>\n",
       "      <td>3.0</td>\n",
       "      <td>3.0</td>\n",
       "      <td>a0R4K000001z5C4UAI</td>\n",
       "      <td>a0P4K000000fx1jUAA</td>\n",
       "    </tr>\n",
       "  </tbody>\n",
       "</table>\n",
       "</div>"
      ],
      "text/plain": [
       "      hed__Contact__c  mor_Attendance_Score__c  IP_Grade_Average__c  \\\n",
       "0  0034K00000AAqD5QAL                      NaN                  NaN   \n",
       "1  0034K00000BAy34QAD                    100.0              93.1800   \n",
       "2  0034K00000B8gOhQAJ                    100.0              74.0350   \n",
       "3  0034K00000B8gOQQAZ                    100.0              78.3825   \n",
       "4  0034K00000BAy3UQAT                    100.0              79.5450   \n",
       "\n",
       "   mor_Total_Activity_Time__c  Participations_Level__c  Page_Views_Level__c  \\\n",
       "0                           0                      NaN                  NaN   \n",
       "1                      887219                      2.0                  3.0   \n",
       "2                      137896                      3.0                  2.0   \n",
       "3                      840909                      3.0                  2.0   \n",
       "4                     1612422                      3.0                  3.0   \n",
       "\n",
       "  hed__Course_Offering__c Prerequisite_Course_Connection__c  \n",
       "0      a0R4K000001z5C4UAI                a0P4K000000fx1eUAA  \n",
       "1      a0R4K000001z5C4UAI                a0P4K000000fx1fUAA  \n",
       "2      a0R4K000001z5C4UAI                a0P4K000000fx1hUAA  \n",
       "3      a0R4K000001z5C4UAI                a0P4K000000fx1iUAA  \n",
       "4      a0R4K000001z5C4UAI                a0P4K000000fx1jUAA  "
      ]
     },
     "execution_count": 467,
     "metadata": {},
     "output_type": "execute_result"
    }
   ],
   "source": [
    "pd.DataFrame(df_flask.take(5), columns=df_flask.columns).head(5)"
   ]
  },
  {
   "cell_type": "markdown",
   "id": "b5618f61-5ac9-4021-bfae-fc2c42166a4a",
   "metadata": {},
   "source": [
    "# Data cleaning and preparation"
   ]
  },
  {
   "cell_type": "markdown",
   "id": "9c9f54ba-05ae-4254-97eb-5d785d2f71fd",
   "metadata": {},
   "source": [
    ">This is the process of fixing or removing incorrect, corrupted, incorrectly formatted, duplicate, or incomplete data within a dataset.\n",
    "\n",
    "\n",
    "            1.If the student had none of the metrics, they will be dropped.\n",
    "            2.Students with a below-50% grade and who are not showing up for modules will fail and be dropped from the program.\n",
    "            3.for one to take jave or python must pass angular\n",
    "            4.for one to take android must pass java\n",
    "            5.for one to take django must pass python \n",
    "            6.for one to take proffessional must pass either django or android"
   ]
  },
  {
   "cell_type": "markdown",
   "id": "ca6b2706-5c36-47fa-8727-62c818853adb",
   "metadata": {},
   "source": [
    "__Angular student data__"
   ]
  },
  {
   "cell_type": "code",
   "execution_count": 468,
   "id": "a65b1e19-2994-4c55-9724-02843f56222b",
   "metadata": {},
   "outputs": [
    {
     "name": "stdout",
     "output_type": "stream",
     "text": [
      "+-----------------------+-------------------+--------------------------+-----------------------+-------------------+\n",
      "|mor_Attendance_Score__c|IP_Grade_Average__c|mor_Total_Activity_Time__c|Participations_Level__c|Page_Views_Level__c|\n",
      "+-----------------------+-------------------+--------------------------+-----------------------+-------------------+\n",
      "|                   null|               null|                     32980|                   null|               null|\n",
      "|                    100|             88.635|                    518086|                      1|                  3|\n",
      "|                    100|              71.59|                    219604|                      3|                  3|\n",
      "|                    100|              64.77|                     38278|                      2|                  2|\n",
      "|                    100|              81.82|                    310581|                      3|                  2|\n",
      "|                    100|              96.59|                    903576|                      2|                  3|\n",
      "|                    100|             45.455|                     46167|                      2|                  1|\n",
      "|                   null|                0.0|                         0|                   null|               null|\n",
      "|                    100|              73.86|                     86509|                      3|                  2|\n",
      "|                    100|             64.775|                    391420|                      3|                  2|\n",
      "|                    100|             67.045|                    327024|                      2|                  2|\n",
      "|                    100|              78.41|                    533851|                      2|                  3|\n",
      "|                    100|             85.225|                    161377|                      3|                  2|\n",
      "|                    100|             76.135|                   1000894|                      2|                  3|\n",
      "|                    100|             76.135|                    397423|                      3|                  1|\n",
      "|                    100|             88.635|                    311286|                      2|                  2|\n",
      "|                    100|                0.0|                    194795|                      1|                  2|\n",
      "|                    100|             47.725|                    231664|                      2|                  2|\n",
      "|                    100|             73.865|                     36790|                      3|                  3|\n",
      "|                    100|                0.0|                      3049|                      1|                  1|\n",
      "+-----------------------+-------------------+--------------------------+-----------------------+-------------------+\n",
      "only showing top 20 rows\n",
      "\n"
     ]
    },
    {
     "data": {
      "text/plain": [
       "101"
      ]
     },
     "execution_count": 468,
     "metadata": {},
     "output_type": "execute_result"
    }
   ],
   "source": [
    "selected_angular =df_angular.select(['mor_Attendance_Score__c', 'IP_Grade_Average__c', 'mor_Total_Activity_Time__c', 'Participations_Level__c', 'Page_Views_Level__c',])\n",
    "selected_angular.show()\n",
    "selected_angular.count()"
   ]
  },
  {
   "cell_type": "code",
   "execution_count": 469,
   "id": "117f7d64-21d3-4977-8eea-dbd75818ec96",
   "metadata": {},
   "outputs": [
    {
     "name": "stdout",
     "output_type": "stream",
     "text": [
      "+-----------------------+-------------------+--------------------------+-----------------------+-------------------+\n",
      "|mor_Attendance_Score__c|IP_Grade_Average__c|mor_Total_Activity_Time__c|Participations_Level__c|Page_Views_Level__c|\n",
      "+-----------------------+-------------------+--------------------------+-----------------------+-------------------+\n",
      "|                   null|               null|                     32980|                   null|               null|\n",
      "|                    100|             88.635|                    518086|                      1|                  3|\n",
      "|                    100|              71.59|                    219604|                      3|                  3|\n",
      "|                    100|              64.77|                     38278|                      2|                  2|\n",
      "|                    100|              81.82|                    310581|                      3|                  2|\n",
      "|                    100|              96.59|                    903576|                      2|                  3|\n",
      "|                    100|             45.455|                     46167|                      2|                  1|\n",
      "|                   null|                0.0|                         0|                   null|               null|\n",
      "|                    100|              73.86|                     86509|                      3|                  2|\n",
      "|                    100|             64.775|                    391420|                      3|                  2|\n",
      "|                    100|             67.045|                    327024|                      2|                  2|\n",
      "|                    100|              78.41|                    533851|                      2|                  3|\n",
      "|                    100|             85.225|                    161377|                      3|                  2|\n",
      "|                    100|             76.135|                   1000894|                      2|                  3|\n",
      "|                    100|             76.135|                    397423|                      3|                  1|\n",
      "|                    100|             88.635|                    311286|                      2|                  2|\n",
      "|                    100|                0.0|                    194795|                      1|                  2|\n",
      "|                    100|             47.725|                    231664|                      2|                  2|\n",
      "|                    100|             73.865|                     36790|                      3|                  3|\n",
      "|                    100|                0.0|                      3049|                      1|                  1|\n",
      "+-----------------------+-------------------+--------------------------+-----------------------+-------------------+\n",
      "only showing top 20 rows\n",
      "\n"
     ]
    },
    {
     "data": {
      "text/plain": [
       "101"
      ]
     },
     "execution_count": 469,
     "metadata": {},
     "output_type": "execute_result"
    }
   ],
   "source": [
    "clean_angular=selected_angular.na.drop(how='any',thresh=1)\n",
    "clean_angular.show()\n",
    "clean_angular.count()"
   ]
  },
  {
   "cell_type": "code",
   "execution_count": 470,
   "id": "2cc6056e-8eb8-4e90-844b-c69370385fd6",
   "metadata": {},
   "outputs": [
    {
     "data": {
      "text/plain": [
       "59"
      ]
     },
     "execution_count": 470,
     "metadata": {},
     "output_type": "execute_result"
    }
   ],
   "source": [
    "angular_pass=clean_angular.filter(\"IP_Grade_Average__c >= 50.00\")\n",
    "angular_pass.count()"
   ]
  },
  {
   "cell_type": "markdown",
   "id": "0e34a212-32fb-4192-9df1-f72aca31a82e",
   "metadata": {},
   "source": [
    "**Java sudent data**"
   ]
  },
  {
   "cell_type": "code",
   "execution_count": 471,
   "id": "2bb7212c-d411-4f83-ab77-bd9006336785",
   "metadata": {},
   "outputs": [
    {
     "name": "stdout",
     "output_type": "stream",
     "text": [
      "+-----------------------+-------------------+--------------------------+-----------------------+-------------------+\n",
      "|mor_Attendance_Score__c|IP_Grade_Average__c|mor_Total_Activity_Time__c|Participations_Level__c|Page_Views_Level__c|\n",
      "+-----------------------+-------------------+--------------------------+-----------------------+-------------------+\n",
      "|                   null|                0.0|                      null|                   null|               null|\n",
      "|                   null|                0.0|                       328|                   null|               null|\n",
      "|                    100|            80.2725|                    677572|                      2|                  2|\n",
      "|                    100|            77.0775|                    170711|                      3|                  1|\n",
      "|                    100|            79.0175|                   1639802|                      2|                  2|\n",
      "|                    100|             79.725|                    803982|                      2|                  2|\n",
      "|                   null|                0.0|                      6374|                   null|               null|\n",
      "|                    100|            43.9225|                   1299760|                      3|                  2|\n",
      "|                    100|             78.545|                    368372|                      2|                  3|\n",
      "|                    100|            90.3275|                   1374214|                      2|                  3|\n",
      "|                    100|            73.2575|                    543047|                      2|                  2|\n",
      "|                    100|            84.8425|                    861512|                      2|                  3|\n",
      "|                    100|        22.80666667|                    429706|                      2|                  2|\n",
      "|                    100|            65.5725|                   1851539|                      3|                  3|\n",
      "|                    100|            92.7825|                    568841|                      2|                  2|\n",
      "|                    100|                0.0|                    389206|                      1|                  1|\n",
      "|                    100|               6.58|                    481910|                      2|                  1|\n",
      "|                    100|            92.2375|                   1159831|                      3|                  2|\n",
      "|                    100|            79.6575|                   1217004|                      3|                  2|\n",
      "|                    100|            15.1325|                    265850|                      2|                  2|\n",
      "+-----------------------+-------------------+--------------------------+-----------------------+-------------------+\n",
      "only showing top 20 rows\n",
      "\n"
     ]
    },
    {
     "data": {
      "text/plain": [
       "30"
      ]
     },
     "execution_count": 471,
     "metadata": {},
     "output_type": "execute_result"
    }
   ],
   "source": [
    "selected_java =df_java.select(['mor_Attendance_Score__c', 'IP_Grade_Average__c', 'mor_Total_Activity_Time__c', 'Participations_Level__c', 'Page_Views_Level__c',])\n",
    "selected_java.show()\n",
    "selected_java.count()"
   ]
  },
  {
   "cell_type": "code",
   "execution_count": 472,
   "id": "f1aa8b1a-3791-46fc-9623-888020fc1ee8",
   "metadata": {},
   "outputs": [
    {
     "name": "stdout",
     "output_type": "stream",
     "text": [
      "+-----------------------+-------------------+--------------------------+-----------------------+-------------------+\n",
      "|mor_Attendance_Score__c|IP_Grade_Average__c|mor_Total_Activity_Time__c|Participations_Level__c|Page_Views_Level__c|\n",
      "+-----------------------+-------------------+--------------------------+-----------------------+-------------------+\n",
      "|                   null|                0.0|                      null|                   null|               null|\n",
      "|                   null|                0.0|                       328|                   null|               null|\n",
      "|                    100|            80.2725|                    677572|                      2|                  2|\n",
      "|                    100|            77.0775|                    170711|                      3|                  1|\n",
      "|                    100|            79.0175|                   1639802|                      2|                  2|\n",
      "|                    100|             79.725|                    803982|                      2|                  2|\n",
      "|                   null|                0.0|                      6374|                   null|               null|\n",
      "|                    100|            43.9225|                   1299760|                      3|                  2|\n",
      "|                    100|             78.545|                    368372|                      2|                  3|\n",
      "|                    100|            90.3275|                   1374214|                      2|                  3|\n",
      "|                    100|            73.2575|                    543047|                      2|                  2|\n",
      "|                    100|            84.8425|                    861512|                      2|                  3|\n",
      "|                    100|        22.80666667|                    429706|                      2|                  2|\n",
      "|                    100|            65.5725|                   1851539|                      3|                  3|\n",
      "|                    100|            92.7825|                    568841|                      2|                  2|\n",
      "|                    100|                0.0|                    389206|                      1|                  1|\n",
      "|                    100|               6.58|                    481910|                      2|                  1|\n",
      "|                    100|            92.2375|                   1159831|                      3|                  2|\n",
      "|                    100|            79.6575|                   1217004|                      3|                  2|\n",
      "|                    100|            15.1325|                    265850|                      2|                  2|\n",
      "+-----------------------+-------------------+--------------------------+-----------------------+-------------------+\n",
      "only showing top 20 rows\n",
      "\n"
     ]
    },
    {
     "data": {
      "text/plain": [
       "30"
      ]
     },
     "execution_count": 472,
     "metadata": {},
     "output_type": "execute_result"
    }
   ],
   "source": [
    "clean_java=selected_java.na.drop(how='any',thresh=1)\n",
    "clean_java.show()\n",
    "clean_java.count()"
   ]
  },
  {
   "cell_type": "code",
   "execution_count": 473,
   "id": "c37167d6-9a26-4fec-a62b-f560ca32e158",
   "metadata": {},
   "outputs": [
    {
     "data": {
      "text/plain": [
       "16"
      ]
     },
     "execution_count": 473,
     "metadata": {},
     "output_type": "execute_result"
    }
   ],
   "source": [
    "java_pass=clean_java.filter(\"IP_Grade_Average__c >= 50.00\")\n",
    "java_pass.count()"
   ]
  },
  {
   "cell_type": "markdown",
   "id": "42e1db8d-6f49-42b2-8df9-50aa41424488",
   "metadata": {},
   "source": [
    "__Android student data__"
   ]
  },
  {
   "cell_type": "code",
   "execution_count": 474,
   "id": "5e199f54-ba2c-4321-a0c3-2b24631f35d1",
   "metadata": {},
   "outputs": [
    {
     "name": "stdout",
     "output_type": "stream",
     "text": [
      "['hed__Contact__c', 'mor_Attendance_Score__c', 'IP_Grade_Average__c', 'mor_Total_Activity_Time__c', 'Participations_Level__c', 'Page_Views_Level__c', 'hed__Course_Offering__c', 'Prerequisite_Course_Connection__c']\n"
     ]
    }
   ],
   "source": [
    "print(df_android.columns)\n"
   ]
  },
  {
   "cell_type": "code",
   "execution_count": 475,
   "id": "5e83a8ab-aa88-402d-bd87-db22fd31461c",
   "metadata": {},
   "outputs": [],
   "source": [
    "selected_android =df_android.select(['mor_Attendance_Score__c', 'IP_Grade_Average__c', 'mor_Total_Activity_Time__c', 'Participations_Level__c', 'Page_Views_Level__c',])"
   ]
  },
  {
   "cell_type": "code",
   "execution_count": 476,
   "id": "6deac7c8-9bbe-476e-b54a-155713ad7211",
   "metadata": {},
   "outputs": [
    {
     "name": "stdout",
     "output_type": "stream",
     "text": [
      "+-----------------------+-------------------+--------------------------+-----------------------+-------------------+\n",
      "|mor_Attendance_Score__c|IP_Grade_Average__c|mor_Total_Activity_Time__c|Participations_Level__c|Page_Views_Level__c|\n",
      "+-----------------------+-------------------+--------------------------+-----------------------+-------------------+\n",
      "|                   null|               null|                     32237|                   null|               null|\n",
      "|                   null|               null|                      null|                   null|               null|\n",
      "|                     78|              23.61|                    239165|                      2|                  2|\n",
      "|                     96|               95.0|                   1238278|                      2|                  2|\n",
      "|                     96|              93.61|                    406821|                      2|                  2|\n",
      "|                    100|            89.4425|                   1041707|                      3|                  1|\n",
      "|                     91|              93.61|                    655482|                      2|                  2|\n",
      "|                   null|                0.0|                     57088|                   null|               null|\n",
      "|                     96|             94.445|                    744346|                      2|                  2|\n",
      "|                    100|            92.7775|                    696430|                      3|                  3|\n",
      "|                     99|            86.9425|                    606555|                      2|                  2|\n",
      "|                     91|               97.5|                    281336|                      2|                  2|\n",
      "|                    100|              93.61|                   1264251|                      2|                  3|\n",
      "|                     90|             91.945|                    566208|                      1|                  2|\n",
      "|                    100|             89.445|                   1024793|                      2|                  2|\n",
      "|                    100|            93.3325|                   1252406|                      3|                  3|\n",
      "|                     96|             83.335|                     82926|                      2|                  1|\n",
      "|                   null|               null|                     58962|                   null|               null|\n",
      "|                   null|               null|                    738642|                   null|               null|\n",
      "|                     65|            82.9175|                     72565|                      2|                  1|\n",
      "+-----------------------+-------------------+--------------------------+-----------------------+-------------------+\n",
      "\n"
     ]
    }
   ],
   "source": [
    "selected_android.show()"
   ]
  },
  {
   "cell_type": "code",
   "execution_count": 477,
   "id": "1595a452-bde5-435f-84a6-2f2df5d7a0fc",
   "metadata": {},
   "outputs": [],
   "source": [
    "clean_android=selected_android.na.drop(how='any',thresh=1)"
   ]
  },
  {
   "cell_type": "code",
   "execution_count": 478,
   "id": "9843095d-9b56-404b-827e-602c89e34759",
   "metadata": {},
   "outputs": [
    {
     "name": "stdout",
     "output_type": "stream",
     "text": [
      "+-----------------------+-------------------+--------------------------+-----------------------+-------------------+\n",
      "|mor_Attendance_Score__c|IP_Grade_Average__c|mor_Total_Activity_Time__c|Participations_Level__c|Page_Views_Level__c|\n",
      "+-----------------------+-------------------+--------------------------+-----------------------+-------------------+\n",
      "|                   null|               null|                     32237|                   null|               null|\n",
      "|                     78|              23.61|                    239165|                      2|                  2|\n",
      "|                     96|               95.0|                   1238278|                      2|                  2|\n",
      "|                     96|              93.61|                    406821|                      2|                  2|\n",
      "|                    100|            89.4425|                   1041707|                      3|                  1|\n",
      "|                     91|              93.61|                    655482|                      2|                  2|\n",
      "|                   null|                0.0|                     57088|                   null|               null|\n",
      "|                     96|             94.445|                    744346|                      2|                  2|\n",
      "|                    100|            92.7775|                    696430|                      3|                  3|\n",
      "|                     99|            86.9425|                    606555|                      2|                  2|\n",
      "|                     91|               97.5|                    281336|                      2|                  2|\n",
      "|                    100|              93.61|                   1264251|                      2|                  3|\n",
      "|                     90|             91.945|                    566208|                      1|                  2|\n",
      "|                    100|             89.445|                   1024793|                      2|                  2|\n",
      "|                    100|            93.3325|                   1252406|                      3|                  3|\n",
      "|                     96|             83.335|                     82926|                      2|                  1|\n",
      "|                   null|               null|                     58962|                   null|               null|\n",
      "|                   null|               null|                    738642|                   null|               null|\n",
      "|                     65|            82.9175|                     72565|                      2|                  1|\n",
      "+-----------------------+-------------------+--------------------------+-----------------------+-------------------+\n",
      "\n"
     ]
    }
   ],
   "source": [
    "clean_android.show()"
   ]
  },
  {
   "cell_type": "markdown",
   "id": "83d9ca40-db90-4b1c-aeac-68145504dfad",
   "metadata": {},
   "source": [
    "*Initial number of students in the android database*"
   ]
  },
  {
   "cell_type": "code",
   "execution_count": 479,
   "id": "61f6f218-cfc6-4ec6-a6d8-ec62b963cbfc",
   "metadata": {},
   "outputs": [
    {
     "data": {
      "text/plain": [
       "20"
      ]
     },
     "execution_count": 479,
     "metadata": {},
     "output_type": "execute_result"
    }
   ],
   "source": [
    "\n",
    "selected_android.count()"
   ]
  },
  {
   "cell_type": "markdown",
   "id": "9f648205-6eba-4e23-a62c-cb312d687ca8",
   "metadata": {},
   "source": [
    "*Student number after dropping Students that have none of the metrics*"
   ]
  },
  {
   "cell_type": "code",
   "execution_count": 480,
   "id": "9baba449-34c6-42f5-a66d-6c5570b9b458",
   "metadata": {},
   "outputs": [
    {
     "data": {
      "text/plain": [
       "19"
      ]
     },
     "execution_count": 480,
     "metadata": {},
     "output_type": "execute_result"
    }
   ],
   "source": [
    "clean_android.count()"
   ]
  },
  {
   "cell_type": "code",
   "execution_count": 481,
   "id": "cb880f68-384f-4cde-9dc0-e72cd53273c0",
   "metadata": {},
   "outputs": [
    {
     "name": "stdout",
     "output_type": "stream",
     "text": [
      "+-----------------------+-------------------+--------------------------+-----------------------+-------------------+\n",
      "|mor_Attendance_Score__c|IP_Grade_Average__c|mor_Total_Activity_Time__c|Participations_Level__c|Page_Views_Level__c|\n",
      "+-----------------------+-------------------+--------------------------+-----------------------+-------------------+\n",
      "|                     96|               95.0|                   1238278|                      2|                  2|\n",
      "|                     96|              93.61|                    406821|                      2|                  2|\n",
      "|                    100|            89.4425|                   1041707|                      3|                  1|\n",
      "|                     91|              93.61|                    655482|                      2|                  2|\n",
      "|                     96|             94.445|                    744346|                      2|                  2|\n",
      "|                    100|            92.7775|                    696430|                      3|                  3|\n",
      "|                     99|            86.9425|                    606555|                      2|                  2|\n",
      "|                     91|               97.5|                    281336|                      2|                  2|\n",
      "|                    100|              93.61|                   1264251|                      2|                  3|\n",
      "|                     90|             91.945|                    566208|                      1|                  2|\n",
      "|                    100|             89.445|                   1024793|                      2|                  2|\n",
      "|                    100|            93.3325|                   1252406|                      3|                  3|\n",
      "|                     96|             83.335|                     82926|                      2|                  1|\n",
      "|                     65|            82.9175|                     72565|                      2|                  1|\n",
      "+-----------------------+-------------------+--------------------------+-----------------------+-------------------+\n",
      "\n"
     ]
    },
    {
     "data": {
      "text/plain": [
       "14"
      ]
     },
     "execution_count": 481,
     "metadata": {},
     "output_type": "execute_result"
    }
   ],
   "source": [
    "pass_android=clean_android.filter(\"IP_Grade_Average__c >= 50.00\")\n",
    "pass_android.show()\n",
    "pass_android.count()"
   ]
  },
  {
   "cell_type": "markdown",
   "id": "e447742e-ae3e-4f0f-ae6e-87b5899848f3",
   "metadata": {},
   "source": [
    ">student who pass androd can take  Professional Development course. "
   ]
  },
  {
   "cell_type": "markdown",
   "id": "7eca37c3-85bc-411f-be5f-16b06bf92e51",
   "metadata": {},
   "source": [
    "**Python\\flask student data**"
   ]
  },
  {
   "cell_type": "code",
   "execution_count": 482,
   "id": "1e29d72e-c38e-4ece-85a4-7226df7c79df",
   "metadata": {},
   "outputs": [
    {
     "name": "stdout",
     "output_type": "stream",
     "text": [
      "+-----------------------+-------------------+--------------------------+-----------------------+-------------------+\n",
      "|mor_Attendance_Score__c|IP_Grade_Average__c|mor_Total_Activity_Time__c|Participations_Level__c|Page_Views_Level__c|\n",
      "+-----------------------+-------------------+--------------------------+-----------------------+-------------------+\n",
      "|                   null|               null|                         0|                   null|               null|\n",
      "|                    100|              93.18|                    887219|                      2|                  3|\n",
      "|                    100|             74.035|                    137896|                      3|                  2|\n",
      "|                    100|            78.3825|                    840909|                      3|                  2|\n",
      "|                    100|             79.545|                   1612422|                      3|                  3|\n",
      "|                    100|             90.905|                    703365|                      1|                  3|\n",
      "|                   null|               null|                         0|                   null|               null|\n",
      "|                    100|              88.39|                     57391|                      3|                  2|\n",
      "|                    100|             72.185|                    741133|                      3|                  3|\n",
      "|                    100|            62.3675|                    482327|                      3|                  2|\n",
      "|                   null|                0.0|                       584|                      0|                  1|\n",
      "|                     98|            31.8175|                    439876|                      3|                  1|\n",
      "|                     91|                0.0|                         0|                      0|                  1|\n",
      "|                    100|             95.825|                   1069021|                      3|                  2|\n",
      "|                     79|            84.1125|                    101250|                      3|                  1|\n",
      "|                     96|            97.2325|                    766073|                      3|                  2|\n",
      "|                    100|              70.01|                    858553|                      3|                  3|\n",
      "|                    100|             83.495|                    509545|                      3|                  3|\n",
      "|                    100|            83.3775|                    165643|                      3|                  2|\n",
      "|                     98|             72.035|                    683603|                      3|                  3|\n",
      "+-----------------------+-------------------+--------------------------+-----------------------+-------------------+\n",
      "only showing top 20 rows\n",
      "\n"
     ]
    },
    {
     "data": {
      "text/plain": [
       "62"
      ]
     },
     "execution_count": 482,
     "metadata": {},
     "output_type": "execute_result"
    }
   ],
   "source": [
    "selected_flask =df_flask.select(['mor_Attendance_Score__c', 'IP_Grade_Average__c', 'mor_Total_Activity_Time__c', 'Participations_Level__c', 'Page_Views_Level__c',])\n",
    "selected_flask.show()\n",
    "selected_flask.count()"
   ]
  },
  {
   "cell_type": "code",
   "execution_count": 483,
   "id": "90fd0394-23db-489a-9c0c-11b54fd36574",
   "metadata": {},
   "outputs": [
    {
     "name": "stdout",
     "output_type": "stream",
     "text": [
      "+-----------------------+-------------------+--------------------------+-----------------------+-------------------+\n",
      "|mor_Attendance_Score__c|IP_Grade_Average__c|mor_Total_Activity_Time__c|Participations_Level__c|Page_Views_Level__c|\n",
      "+-----------------------+-------------------+--------------------------+-----------------------+-------------------+\n",
      "|                   null|               null|                         0|                   null|               null|\n",
      "|                    100|              93.18|                    887219|                      2|                  3|\n",
      "|                    100|             74.035|                    137896|                      3|                  2|\n",
      "|                    100|            78.3825|                    840909|                      3|                  2|\n",
      "|                    100|             79.545|                   1612422|                      3|                  3|\n",
      "|                    100|             90.905|                    703365|                      1|                  3|\n",
      "|                   null|               null|                         0|                   null|               null|\n",
      "|                    100|              88.39|                     57391|                      3|                  2|\n",
      "|                    100|             72.185|                    741133|                      3|                  3|\n",
      "|                    100|            62.3675|                    482327|                      3|                  2|\n",
      "|                   null|                0.0|                       584|                      0|                  1|\n",
      "|                     98|            31.8175|                    439876|                      3|                  1|\n",
      "|                     91|                0.0|                         0|                      0|                  1|\n",
      "|                    100|             95.825|                   1069021|                      3|                  2|\n",
      "|                     79|            84.1125|                    101250|                      3|                  1|\n",
      "|                     96|            97.2325|                    766073|                      3|                  2|\n",
      "|                    100|              70.01|                    858553|                      3|                  3|\n",
      "|                    100|             83.495|                    509545|                      3|                  3|\n",
      "|                    100|            83.3775|                    165643|                      3|                  2|\n",
      "|                     98|             72.035|                    683603|                      3|                  3|\n",
      "+-----------------------+-------------------+--------------------------+-----------------------+-------------------+\n",
      "only showing top 20 rows\n",
      "\n"
     ]
    },
    {
     "data": {
      "text/plain": [
       "62"
      ]
     },
     "execution_count": 483,
     "metadata": {},
     "output_type": "execute_result"
    }
   ],
   "source": [
    "clean_flask=selected_flask.na.drop(how='any',thresh=1)\n",
    "clean_flask.show()\n",
    "clean_flask.count()"
   ]
  },
  {
   "cell_type": "code",
   "execution_count": 484,
   "id": "1018e93b-ee3f-4b23-83e6-355d4dd418b7",
   "metadata": {},
   "outputs": [
    {
     "data": {
      "text/plain": [
       "38"
      ]
     },
     "execution_count": 484,
     "metadata": {},
     "output_type": "execute_result"
    }
   ],
   "source": [
    "python_pass=clean_flask.filter(\"IP_Grade_Average__c >= 50.00\")\n",
    "python_pass.count()"
   ]
  },
  {
   "cell_type": "markdown",
   "id": "e7745c12-eab8-4e8c-96aa-1977a84190af",
   "metadata": {},
   "source": [
    "**Django student data**"
   ]
  },
  {
   "cell_type": "code",
   "execution_count": 485,
   "id": "82e1d5d0-8c53-44ab-a8d7-076ae7eef60f",
   "metadata": {},
   "outputs": [
    {
     "name": "stdout",
     "output_type": "stream",
     "text": [
      "+-----------------------+-------------------+--------------------------+-----------------------+-------------------+\n",
      "|mor_Attendance_Score__c|IP_Grade_Average__c|mor_Total_Activity_Time__c|Participations_Level__c|Page_Views_Level__c|\n",
      "+-----------------------+-------------------+--------------------------+-----------------------+-------------------+\n",
      "|                     63|            82.7325|                    303945|                      2|                  2|\n",
      "|                   null|               null|                     16175|                   null|               null|\n",
      "|                   null|               null|                      null|                   null|               null|\n",
      "|                   null|               null|                         0|                   null|               null|\n",
      "|                    100|                0.0|                    194355|                      1|                  1|\n",
      "|                    100|               88.8|                    748422|                      3|                  2|\n",
      "|                    100|              71.51|                    127330|                      2|                  1|\n",
      "|                    100|            69.2775|                    285917|                      3|                  2|\n",
      "|                    100|              91.58|                   1014975|                      2|                  2|\n",
      "|                     96|        69.85333333|                    656279|                      2|                  3|\n",
      "|                    100|              80.35|                     31421|                      3|                  2|\n",
      "|                    100|            75.6025|                    506618|                      3|                  2|\n",
      "|                    100|            69.3775|                    463996|                      3|                  2|\n",
      "|                    100|             90.355|                    332089|                      2|                  1|\n",
      "|                     47|               50.0|                      8479|                      1|                  1|\n",
      "|                    100|            96.9175|                    900488|                      2|                  2|\n",
      "|                     96|               73.1|                    878855|                      2|                  3|\n",
      "|                    100|              86.25|                    433339|                      2|                  3|\n",
      "|                    100|            86.2175|                    159174|                      3|                  2|\n",
      "|                    100|            82.5225|                    535504|                      2|                  3|\n",
      "+-----------------------+-------------------+--------------------------+-----------------------+-------------------+\n",
      "only showing top 20 rows\n",
      "\n"
     ]
    },
    {
     "data": {
      "text/plain": [
       "48"
      ]
     },
     "execution_count": 485,
     "metadata": {},
     "output_type": "execute_result"
    }
   ],
   "source": [
    "\n",
    "selected_django =df_django.select(['mor_Attendance_Score__c', 'IP_Grade_Average__c', 'mor_Total_Activity_Time__c', 'Participations_Level__c', 'Page_Views_Level__c',])\n",
    "selected_django.show()\n",
    "selected_django.count()"
   ]
  },
  {
   "cell_type": "code",
   "execution_count": 486,
   "id": "ed2a17e0-9d16-4cd0-8dd3-72224cf38407",
   "metadata": {},
   "outputs": [
    {
     "name": "stdout",
     "output_type": "stream",
     "text": [
      "+-----------------------+-------------------+--------------------------+-----------------------+-------------------+\n",
      "|mor_Attendance_Score__c|IP_Grade_Average__c|mor_Total_Activity_Time__c|Participations_Level__c|Page_Views_Level__c|\n",
      "+-----------------------+-------------------+--------------------------+-----------------------+-------------------+\n",
      "|                     63|            82.7325|                    303945|                      2|                  2|\n",
      "|                   null|               null|                     16175|                   null|               null|\n",
      "|                   null|               null|                         0|                   null|               null|\n",
      "|                    100|                0.0|                    194355|                      1|                  1|\n",
      "|                    100|               88.8|                    748422|                      3|                  2|\n",
      "|                    100|              71.51|                    127330|                      2|                  1|\n",
      "|                    100|            69.2775|                    285917|                      3|                  2|\n",
      "|                    100|              91.58|                   1014975|                      2|                  2|\n",
      "|                     96|        69.85333333|                    656279|                      2|                  3|\n",
      "|                    100|              80.35|                     31421|                      3|                  2|\n",
      "|                    100|            75.6025|                    506618|                      3|                  2|\n",
      "|                    100|            69.3775|                    463996|                      3|                  2|\n",
      "|                    100|             90.355|                    332089|                      2|                  1|\n",
      "|                     47|               50.0|                      8479|                      1|                  1|\n",
      "|                    100|            96.9175|                    900488|                      2|                  2|\n",
      "|                     96|               73.1|                    878855|                      2|                  3|\n",
      "|                    100|              86.25|                    433339|                      2|                  3|\n",
      "|                    100|            86.2175|                    159174|                      3|                  2|\n",
      "|                    100|            82.5225|                    535504|                      2|                  3|\n",
      "|                    100|        42.03333333|                    168444|                      3|                  3|\n",
      "+-----------------------+-------------------+--------------------------+-----------------------+-------------------+\n",
      "only showing top 20 rows\n",
      "\n"
     ]
    },
    {
     "data": {
      "text/plain": [
       "47"
      ]
     },
     "execution_count": 486,
     "metadata": {},
     "output_type": "execute_result"
    }
   ],
   "source": [
    "clean_django=selected_django.na.drop(how='any',thresh=1)\n",
    "clean_django.show()\n",
    "clean_django.count()"
   ]
  },
  {
   "cell_type": "code",
   "execution_count": 487,
   "id": "885338ff-8ccb-4ac8-bcf9-db74c84634ab",
   "metadata": {},
   "outputs": [
    {
     "data": {
      "text/plain": [
       "37"
      ]
     },
     "execution_count": 487,
     "metadata": {},
     "output_type": "execute_result"
    }
   ],
   "source": [
    "django_pass=clean_django.filter(\"IP_Grade_Average__c >= 50.00\")\n",
    "django_pass.count()"
   ]
  },
  {
   "cell_type": "markdown",
   "id": "83b191e1-57ea-4881-9526-65066e571005",
   "metadata": {},
   "source": [
    "# Question 2."
   ]
  },
  {
   "cell_type": "markdown",
   "id": "6cb8bac2-5fc9-496b-86aa-ec6bcea69430",
   "metadata": {},
   "source": [
    "__Determine the module-to-module retention rates for each of the modules.__"
   ]
  },
  {
   "cell_type": "markdown",
   "id": "e71a6b8d-ccd6-459e-aee7-f4b756376f68",
   "metadata": {},
   "source": [
    "__student who passed Intro to Software Development__"
   ]
  },
  {
   "cell_type": "code",
   "execution_count": 488,
   "id": "b8bff734-834d-42aa-8871-460eb4fe3836",
   "metadata": {},
   "outputs": [
    {
     "data": {
      "text/plain": [
       "141"
      ]
     },
     "execution_count": 488,
     "metadata": {},
     "output_type": "execute_result"
    }
   ],
   "source": [
    "selected_intro =df_softwareIntro.select(['mor_Attendance_Score__c', 'IP_Grade_Average__c', 'mor_Total_Activity_Time__c', 'Participations_Level__c', 'Page_Views_Level__c',])\n",
    "selected_intro.count()"
   ]
  },
  {
   "cell_type": "code",
   "execution_count": 489,
   "id": "e8c5ca2e-8552-44fc-8fc6-b74c1e2f487e",
   "metadata": {},
   "outputs": [
    {
     "data": {
      "text/plain": [
       "141"
      ]
     },
     "execution_count": 489,
     "metadata": {},
     "output_type": "execute_result"
    }
   ],
   "source": [
    "clean_intro=selected_intro.na.drop(how='any',thresh=1)\n",
    "clean_intro.count()"
   ]
  },
  {
   "cell_type": "code",
   "execution_count": 490,
   "id": "1fe1a35d-fb84-4f22-b977-2aa54eb92451",
   "metadata": {},
   "outputs": [
    {
     "data": {
      "text/plain": [
       "91"
      ]
     },
     "execution_count": 490,
     "metadata": {},
     "output_type": "execute_result"
    }
   ],
   "source": [
    "intro_pass=clean_intro.filter(\"IP_Grade_Average__c >= 50.00\")\n",
    "intro_pass.count()"
   ]
  },
  {
   "cell_type": "code",
   "execution_count": 491,
   "id": "6a9af7ae-8df3-4157-b4d3-aaf73b12650b",
   "metadata": {},
   "outputs": [
    {
     "name": "stdout",
     "output_type": "stream",
     "text": [
      "+--------------------+--------------+--------------+\n",
      "|     previous_module|current_module|retention_rate|\n",
      "+--------------------+--------------+--------------+\n",
      "|Intro to Software...|       Angular|            91|\n",
      "|             Angular|   python+java|            59|\n",
      "|              python|        Django|            38|\n",
      "|                java|       android|            14|\n",
      "|         python+java|    proffesion|            51|\n",
      "+--------------------+--------------+--------------+\n",
      "\n"
     ]
    }
   ],
   "source": [
    "df = spark.createDataFrame([\n",
    "    (\"Intro to Software Development\", \"Angular\", 91),\n",
    "    (\"Angular\", \"python+java\", 59),\n",
    "    (\"python\", \"Django\", 38),\n",
    "    (\"java\", \"android\", 14),\n",
    "    (\"python+java\", \"proffesion\", 51)\n",
    "], [\"previous_module\", \"current_module\", \"retention_rate\"])\n",
    "df.show()\n"
   ]
  },
  {
   "cell_type": "markdown",
   "id": "eed372fd-ed98-49b6-8fde-d89c5b78f588",
   "metadata": {},
   "source": [
    "# Question 3."
   ]
  },
  {
   "cell_type": "markdown",
   "id": "66203e49-b2e0-4398-8eef-638aff71447f",
   "metadata": {},
   "source": [
    "__Which of the metrics above is most correlated to the module-to-module retention rate? List them\n",
    "in order of most to least correlated__"
   ]
  },
  {
   "cell_type": "markdown",
   "id": "ad590a4c-d351-4d80-8ef0-085348252e6d",
   "metadata": {},
   "source": [
    ">Calculate correlation matrix\n",
    "\n",
    ">Plot correlation heatmap\n",
    "\n",
    ">Calculate correlations with the retention rate\n",
    "\n",
    ">Display the correlations in order of most to least correlated"
   ]
  },
  {
   "cell_type": "code",
   "execution_count": 492,
   "id": "d85a85b4-d88c-475b-a208-5d6e459bde1b",
   "metadata": {},
   "outputs": [
    {
     "data": {
      "image/png": "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",
      "text/plain": [
       "<Figure size 800x600 with 2 Axes>"
      ]
     },
     "metadata": {},
     "output_type": "display_data"
    },
    {
     "name": "stdout",
     "output_type": "stream",
     "text": [
      "Metrics in order of most to least correlated with the Retention Rate:\n",
      "IP_Grade_Average__c: 0.7054579283476228\n",
      "Participations_Level__c: 0.5583818601050056\n",
      "mor_Total_Activity_Time__c: 0.24844363333671798\n",
      "Page_Views_Level__c: 0.22934431445676193\n"
     ]
    },
    {
     "name": "stderr",
     "output_type": "stream",
     "text": [
      "/tmp/ipykernel_214/1233155199.py:10: FutureWarning: iteritems is deprecated and will be removed in a future version. Use .items instead.\n",
      "  for metric, correlation in correlations.iteritems():\n"
     ]
    }
   ],
   "source": [
    "\n",
    "corr_matrix = selected_intro.toPandas().corr()\n",
    "plt.figure(figsize=(8, 6))\n",
    "sns.heatmap(corr_matrix, annot=True, cmap='coolwarm')\n",
    "plt.title('Correlation Heatmap')\n",
    "plt.show()\n",
    "\n",
    "correlations = corr_matrix['mor_Attendance_Score__c'].abs().sort_values(ascending=False)\n",
    "correlations = correlations.drop('mor_Attendance_Score__c')\n",
    "print(\"Metrics in order of most to least correlated with the Retention Rate:\")\n",
    "for metric, correlation in correlations.iteritems():\n",
    "    print(f\"{metric}: {correlation}\")\n"
   ]
  },
  {
   "cell_type": "markdown",
   "id": "6c9a78a8-b050-464e-8cbf-18d705e78229",
   "metadata": {},
   "source": [
    "# Question 4."
   ]
  },
  {
   "cell_type": "markdown",
   "id": "ea16885a-aae2-4b77-a920-1b0959dbab89",
   "metadata": {},
   "source": [
    "__If Moringa had to pick 2 metrics out of the above listed ones to help improve module-to-module\n",
    "retention, which should we pick and why?__"
   ]
  },
  {
   "cell_type": "markdown",
   "id": "18c402da-7b32-4f53-9579-7125975151a7",
   "metadata": {},
   "source": [
    ">Calculate the correlation with rentention rate\n",
    "\n",
    ">Select the topmost correlated metrics\n",
    "\n",
    ">Display the topmost metrics"
   ]
  },
  {
   "cell_type": "code",
   "execution_count": 493,
   "id": "5b611749-d9c1-4e7d-a26e-95c2ba3d30cb",
   "metadata": {},
   "outputs": [
    {
     "data": {
      "image/png": "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",
      "text/plain": [
       "<Figure size 800x600 with 2 Axes>"
      ]
     },
     "metadata": {},
     "output_type": "display_data"
    },
    {
     "name": "stdout",
     "output_type": "stream",
     "text": [
      "Top two metrics to prioritize for improving module-to-module retention:\n",
      "IP_Grade_Average__c\n",
      "Participations_Level__c\n"
     ]
    }
   ],
   "source": [
    "plt.figure(figsize=(8, 6))\n",
    "sns.heatmap(corr_matrix, annot=True, cmap='coolwarm')\n",
    "plt.title('Correlation Heatmap')\n",
    "plt.show()\n",
    "\n",
    "correlations = corr_matrix['mor_Attendance_Score__c'].abs().sort_values(ascending=False)\n",
    "correlations = correlations.drop('mor_Attendance_Score__c')\n",
    "top_two_metrics = correlations.head(2).index.tolist()\n",
    "print(\"Top two metrics to prioritize for improving module-to-module retention:\")\n",
    "for metric in top_two_metrics:\n",
    "    print(metric)\n"
   ]
  },
  {
   "cell_type": "markdown",
   "id": "052f53f6-e948-43c6-97e8-e5375440b2a4",
   "metadata": {},
   "source": [
    "# Question 5."
   ]
  },
  {
   "cell_type": "markdown",
   "id": "fc73de77-b53d-4397-bb5f-877b74b80ad0",
   "metadata": {},
   "source": [
    "__What other metrics, in your opinion, do you think Moringa should be measuring to better predict\n",
    "our module-to-module retention and why?__"
   ]
  },
  {
   "cell_type": "markdown",
   "id": "111a876a-cc4e-4965-9087-3bcedc4638fd",
   "metadata": {},
   "source": [
    ">Interaction with the instructor. this can be done through mails and online discussion, there is high likelyhood of better performance of the student when the have good relationship with their instructor\n",
    "\n",
    ">Active involvement in open saurce projects, this will expose student to solving real world problems and xpanding their knowledge "
">Satisfaction Surveys: Gathering feedback from students through surveys can provide valuable insights into their overall satisfaction with the program\n",
teaching quality, learning resources, and support services. Identifying areas of dissatisfaction can help address potential retention issues."

   ]
  },
  {
   "cell_type": "code",
   "execution_count": null,
   "id": "ce10adca-edd7-41df-be12-f65c44c060d7",
   "metadata": {},
   "outputs": [],
   "source": []
  },
  {
   "cell_type": "code",
   "execution_count": null,
   "id": "7ef79a15-6b57-4f2f-adb0-d19dba4e9a16",
   "metadata": {},
   "outputs": [],
   "source": []
  }
 ],
 "metadata": {
  "kernelspec": {
   "display_name": "Python 3 (ipykernel)",
   "language": "python",
   "name": "python3"
  },
  "language_info": {
   "codemirror_mode": {
    "name": "ipython",
    "version": 3
   },
   "file_extension": ".py",
   "mimetype": "text/x-python",
   "name": "python",
   "nbconvert_exporter": "python",
   "pygments_lexer": "ipython3",
   "version": "3.11.4"
  }
 },
 "nbformat": 4,
 "nbformat_minor": 5
}
